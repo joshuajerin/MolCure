{
 "cells": [
  {
   "cell_type": "code",
   "execution_count": 1,
   "metadata": {},
   "outputs": [
    {
     "name": "stdout",
     "output_type": "stream",
     "text": [
      "Requirement already satisfied: rdkit in /Users/krrishts/.pyenv/versions/3.10.13/lib/python3.10/site-packages (2022.3.4)\n",
      "Requirement already satisfied: numpy in /Users/krrishts/.pyenv/versions/3.10.13/lib/python3.10/site-packages (from rdkit) (1.24.3)\n",
      "Requirement already satisfied: Pillow in /Users/krrishts/.pyenv/versions/3.10.13/lib/python3.10/site-packages (from rdkit) (11.1.0)\n",
      "\n",
      "\u001b[1m[\u001b[0m\u001b[34;49mnotice\u001b[0m\u001b[1;39;49m]\u001b[0m\u001b[39;49m A new release of pip is available: \u001b[0m\u001b[31;49m23.0.1\u001b[0m\u001b[39;49m -> \u001b[0m\u001b[32;49m25.0.1\u001b[0m\n",
      "\u001b[1m[\u001b[0m\u001b[34;49mnotice\u001b[0m\u001b[1;39;49m]\u001b[0m\u001b[39;49m To update, run: \u001b[0m\u001b[32;49mpip install --upgrade pip\u001b[0m\n",
      "Note: you may need to restart the kernel to use updated packages.\n"
     ]
    }
   ],
   "source": [
    "pip install rdkit"
   ]
  },
  {
   "cell_type": "code",
   "execution_count": 2,
   "metadata": {},
   "outputs": [
    {
     "name": "stdout",
     "output_type": "stream",
     "text": [
      "['CCO', 'CC(=O)O', 'c1ccccc1', 'CCOC', 'CCN(CC)CC', 'C1CCCCC1', 'O=Cc1ccccc1', 'c1ccncc1', 'Oc1ccccc1', 'Clc1ccccc1']\n"
     ]
    }
   ],
   "source": [
    "from rdkit import Chem\n",
    "from rdkit.Chem import AllChem\n",
    "\n",
    "# List of common molecules (you can expand this list)\n",
    "molecules = [\n",
    "    \"CCO\",  # Ethanol\n",
    "    \"CC(=O)O\",  # Acetic acid\n",
    "    \"C1=CC=CC=C1\",  # Benzene\n",
    "    \"CCOC\",  # Dimethyl ether\n",
    "    \"CCN(CC)CC\",  # Triethylamine\n",
    "    \"C1CCCCC1\",  # Cyclohexane\n",
    "    \"C1=CC=C(C=C1)C=O\",  # Benzaldehyde\n",
    "    \"C1=CC=NC=C1\",  # Pyridine\n",
    "    \"C1=CC=C(O)C=C1\",  # Phenol\n",
    "    \"C1=CC=C(C=C1)Cl\",  # Chlorobenzene\n",
    "]\n",
    "\n",
    "# Generate SMILES strings\n",
    "smiles_list = []\n",
    "for mol in molecules:\n",
    "    m = Chem.MolFromSmiles(mol)\n",
    "    if m:  # Ensure the molecule is valid\n",
    "        smiles_list.append(Chem.MolToSmiles(m))\n",
    "\n",
    "print(smiles_list)"
   ]
  },
  {
   "cell_type": "code",
   "execution_count": 3,
   "metadata": {},
   "outputs": [
    {
     "name": "stdout",
     "output_type": "stream",
     "text": [
      "CCO, 0.17\n",
      "CC(=O)O, 0.76\n",
      "c1ccccc1, 0.02\n",
      "CCOC, 0.17\n",
      "CCN(CC)CC, 0.69\n",
      "C1CCCCC1, 0.37\n",
      "O=Cc1ccccc1, 0.61\n",
      "c1ccncc1, 0.96\n",
      "Oc1ccccc1, 0.03\n",
      "Clc1ccccc1, 0.63\n"
     ]
    }
   ],
   "source": [
    "import random\n",
    "\n",
    "# Assign random effectiveness values\n",
    "dataset = [(smiles, round(random.uniform(0, 1), 2)) for smiles in smiles_list]\n",
    "\n",
    "# Print the dataset\n",
    "for smiles, effectiveness in dataset:\n",
    "    print(f\"{smiles}, {effectiveness}\")"
   ]
  },
  {
   "cell_type": "code",
   "execution_count": 4,
   "metadata": {},
   "outputs": [],
   "source": [
    "import csv\n",
    "\n",
    "# Save to CSV\n",
    "with open(\"antibiotic_dataset.csv\", \"w\", newline=\"\") as csvfile:\n",
    "    writer = csv.writer(csvfile)\n",
    "    writer.writerow([\"SMILES\", \"Effectiveness\"])  # Write header\n",
    "    writer.writerows(dataset)  # Write data"
   ]
  },
  {
   "cell_type": "code",
   "execution_count": null,
   "metadata": {},
   "outputs": [],
   "source": []
  }
 ],
 "metadata": {
  "kernelspec": {
   "display_name": "3.10.13",
   "language": "python",
   "name": "python3"
  },
  "language_info": {
   "codemirror_mode": {
    "name": "ipython",
    "version": 3
   },
   "file_extension": ".py",
   "mimetype": "text/x-python",
   "name": "python",
   "nbconvert_exporter": "python",
   "pygments_lexer": "ipython3",
   "version": "3.10.13"
  }
 },
 "nbformat": 4,
 "nbformat_minor": 2
}
