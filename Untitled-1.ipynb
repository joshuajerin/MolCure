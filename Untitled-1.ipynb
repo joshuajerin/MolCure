{
 "cells": [
  {
   "cell_type": "code",
   "execution_count": 2,
   "metadata": {},
   "outputs": [
    {
     "name": "stdout",
     "output_type": "stream",
     "text": [
      "Requirement already satisfied: torch in /Users/krrishts/.pyenv/versions/3.10.13/lib/python3.10/site-packages (2.0.1)\n",
      "Requirement already satisfied: numpy in /Users/krrishts/.pyenv/versions/3.10.13/lib/python3.10/site-packages (1.24.3)\n",
      "Requirement already satisfied: rdkit in /Users/krrishts/.pyenv/versions/3.10.13/lib/python3.10/site-packages (2022.3.4)\n",
      "Requirement already satisfied: jinja2 in /Users/krrishts/.pyenv/versions/3.10.13/lib/python3.10/site-packages (from torch) (3.1.5)\n",
      "Requirement already satisfied: sympy in /Users/krrishts/.pyenv/versions/3.10.13/lib/python3.10/site-packages (from torch) (1.13.3)\n",
      "Requirement already satisfied: typing-extensions in /Users/krrishts/.pyenv/versions/3.10.13/lib/python3.10/site-packages (from torch) (4.12.2)\n",
      "Requirement already satisfied: networkx in /Users/krrishts/.pyenv/versions/3.10.13/lib/python3.10/site-packages (from torch) (3.4.2)\n",
      "Requirement already satisfied: filelock in /Users/krrishts/.pyenv/versions/3.10.13/lib/python3.10/site-packages (from torch) (3.17.0)\n",
      "Requirement already satisfied: Pillow in /Users/krrishts/.pyenv/versions/3.10.13/lib/python3.10/site-packages (from rdkit) (11.1.0)\n",
      "Requirement already satisfied: MarkupSafe>=2.0 in /Users/krrishts/.pyenv/versions/3.10.13/lib/python3.10/site-packages (from jinja2->torch) (3.0.2)\n",
      "Requirement already satisfied: mpmath<1.4,>=1.1.0 in /Users/krrishts/.pyenv/versions/3.10.13/lib/python3.10/site-packages (from sympy->torch) (1.3.0)\n",
      "\n",
      "\u001b[1m[\u001b[0m\u001b[34;49mnotice\u001b[0m\u001b[1;39;49m]\u001b[0m\u001b[39;49m A new release of pip is available: \u001b[0m\u001b[31;49m23.0.1\u001b[0m\u001b[39;49m -> \u001b[0m\u001b[32;49m25.0.1\u001b[0m\n",
      "\u001b[1m[\u001b[0m\u001b[34;49mnotice\u001b[0m\u001b[1;39;49m]\u001b[0m\u001b[39;49m To update, run: \u001b[0m\u001b[32;49mpip install --upgrade pip\u001b[0m\n",
      "Note: you may need to restart the kernel to use updated packages.\n"
     ]
    }
   ],
   "source": [
    "pip install torch numpy rdkit\n"
   ]
  },
  {
   "cell_type": "code",
   "execution_count": 10,
   "metadata": {},
   "outputs": [
    {
     "name": "stdout",
     "output_type": "stream",
     "text": [
      "Collecting synthemol\n",
      "  Downloading synthemol-1.0.4.tar.gz (2.6 MB)\n",
      "\u001b[2K     \u001b[90m━━━━━━━━━━━━━━━━━━━━━━━━━━━━━━━━━━━━━━━━\u001b[0m \u001b[32m2.6/2.6 MB\u001b[0m \u001b[31m18.6 MB/s\u001b[0m eta \u001b[36m0:00:00\u001b[0ma \u001b[36m0:00:01\u001b[0m\n",
      "\u001b[?25h  Preparing metadata (setup.py) ... \u001b[?25ldone\n",
      "\u001b[?25hRequirement already satisfied: chemfunc in /Users/krrishts/.pyenv/versions/3.10.13/lib/python3.10/site-packages (from synthemol) (1.0.3)\n",
      "Requirement already satisfied: chemprop==1.5.2 in /Users/krrishts/.pyenv/versions/3.10.13/lib/python3.10/site-packages (from synthemol) (1.5.2)\n",
      "Requirement already satisfied: descriptastorus in /Users/krrishts/.pyenv/versions/3.10.13/lib/python3.10/site-packages (from synthemol) (2.6.0)\n",
      "Requirement already satisfied: matplotlib in /Users/krrishts/.pyenv/versions/3.10.13/lib/python3.10/site-packages (from synthemol) (3.7.1)\n",
      "Requirement already satisfied: numpy in /Users/krrishts/.pyenv/versions/3.10.13/lib/python3.10/site-packages (from synthemol) (1.24.3)\n",
      "Requirement already satisfied: pandas in /Users/krrishts/.pyenv/versions/3.10.13/lib/python3.10/site-packages (from synthemol) (2.0.1)\n",
      "Requirement already satisfied: torch in /Users/krrishts/.pyenv/versions/3.10.13/lib/python3.10/site-packages (from synthemol) (2.0.1)\n",
      "Requirement already satisfied: rdkit in /Users/krrishts/.pyenv/versions/3.10.13/lib/python3.10/site-packages (from synthemol) (2022.3.4)\n",
      "Requirement already satisfied: scikit-learn in /Users/krrishts/.pyenv/versions/3.10.13/lib/python3.10/site-packages (from synthemol) (1.2.2)\n",
      "Requirement already satisfied: scipy in /Users/krrishts/.pyenv/versions/3.10.13/lib/python3.10/site-packages (from synthemol) (1.10.1)\n",
      "Requirement already satisfied: tqdm in /Users/krrishts/.pyenv/versions/3.10.13/lib/python3.10/site-packages (from synthemol) (4.65.0)\n",
      "Requirement already satisfied: typed-argument-parser>=1.8.0 in /Users/krrishts/.pyenv/versions/3.10.13/lib/python3.10/site-packages (from synthemol) (1.8.0)\n",
      "Requirement already satisfied: flask>=1.1.2 in /Users/krrishts/.pyenv/versions/3.10.13/lib/python3.10/site-packages (from chemprop==1.5.2->synthemol) (3.1.0)\n",
      "Requirement already satisfied: hyperopt>=0.2.3 in /Users/krrishts/.pyenv/versions/3.10.13/lib/python3.10/site-packages (from chemprop==1.5.2->synthemol) (0.2.7)\n",
      "Requirement already satisfied: pandas-flavor>=0.2.0 in /Users/krrishts/.pyenv/versions/3.10.13/lib/python3.10/site-packages (from chemprop==1.5.2->synthemol) (0.6.0)\n",
      "Requirement already satisfied: sphinx>=3.1.2 in /Users/krrishts/.pyenv/versions/3.10.13/lib/python3.10/site-packages (from chemprop==1.5.2->synthemol) (8.1.3)\n",
      "Requirement already satisfied: tensorboardX>=2.0 in /Users/krrishts/.pyenv/versions/3.10.13/lib/python3.10/site-packages (from chemprop==1.5.2->synthemol) (2.6.2.2)\n",
      "Requirement already satisfied: pillow>=6.2.0 in /Users/krrishts/.pyenv/versions/3.10.13/lib/python3.10/site-packages (from matplotlib->synthemol) (11.1.0)\n",
      "Requirement already satisfied: cycler>=0.10 in /Users/krrishts/.pyenv/versions/3.10.13/lib/python3.10/site-packages (from matplotlib->synthemol) (0.12.1)\n",
      "Requirement already satisfied: pyparsing>=2.3.1 in /Users/krrishts/.pyenv/versions/3.10.13/lib/python3.10/site-packages (from matplotlib->synthemol) (3.2.1)\n",
      "Requirement already satisfied: contourpy>=1.0.1 in /Users/krrishts/.pyenv/versions/3.10.13/lib/python3.10/site-packages (from matplotlib->synthemol) (1.3.1)\n",
      "Requirement already satisfied: kiwisolver>=1.0.1 in /Users/krrishts/.pyenv/versions/3.10.13/lib/python3.10/site-packages (from matplotlib->synthemol) (1.4.8)\n",
      "Requirement already satisfied: packaging>=20.0 in /Users/krrishts/.pyenv/versions/3.10.13/lib/python3.10/site-packages (from matplotlib->synthemol) (24.2)\n",
      "Requirement already satisfied: python-dateutil>=2.7 in /Users/krrishts/.pyenv/versions/3.10.13/lib/python3.10/site-packages (from matplotlib->synthemol) (2.9.0.post0)\n",
      "Requirement already satisfied: fonttools>=4.22.0 in /Users/krrishts/.pyenv/versions/3.10.13/lib/python3.10/site-packages (from matplotlib->synthemol) (4.56.0)\n",
      "Requirement already satisfied: tzdata>=2022.1 in /Users/krrishts/.pyenv/versions/3.10.13/lib/python3.10/site-packages (from pandas->synthemol) (2025.1)\n",
      "Requirement already satisfied: pytz>=2020.1 in /Users/krrishts/.pyenv/versions/3.10.13/lib/python3.10/site-packages (from pandas->synthemol) (2025.1)\n",
      "Requirement already satisfied: joblib>=1.1.1 in /Users/krrishts/.pyenv/versions/3.10.13/lib/python3.10/site-packages (from scikit-learn->synthemol) (1.4.2)\n",
      "Requirement already satisfied: threadpoolctl>=2.0.0 in /Users/krrishts/.pyenv/versions/3.10.13/lib/python3.10/site-packages (from scikit-learn->synthemol) (3.5.0)\n",
      "Requirement already satisfied: jinja2 in /Users/krrishts/.pyenv/versions/3.10.13/lib/python3.10/site-packages (from torch->synthemol) (3.1.5)\n",
      "Requirement already satisfied: typing-extensions in /Users/krrishts/.pyenv/versions/3.10.13/lib/python3.10/site-packages (from torch->synthemol) (4.12.2)\n",
      "Requirement already satisfied: sympy in /Users/krrishts/.pyenv/versions/3.10.13/lib/python3.10/site-packages (from torch->synthemol) (1.13.3)\n",
      "Requirement already satisfied: filelock in /Users/krrishts/.pyenv/versions/3.10.13/lib/python3.10/site-packages (from torch->synthemol) (3.17.0)\n",
      "Requirement already satisfied: networkx in /Users/krrishts/.pyenv/versions/3.10.13/lib/python3.10/site-packages (from torch->synthemol) (3.4.2)\n",
      "Requirement already satisfied: typing-inspect>=0.7.1 in /Users/krrishts/.pyenv/versions/3.10.13/lib/python3.10/site-packages (from typed-argument-parser>=1.8.0->synthemol) (0.9.0)\n",
      "Requirement already satisfied: docstring-parser>=0.15 in /Users/krrishts/.pyenv/versions/3.10.13/lib/python3.10/site-packages (from typed-argument-parser>=1.8.0->synthemol) (0.16)\n",
      "Requirement already satisfied: blinker>=1.9 in /Users/krrishts/.pyenv/versions/3.10.13/lib/python3.10/site-packages (from flask>=1.1.2->chemprop==1.5.2->synthemol) (1.9.0)\n",
      "Requirement already satisfied: click>=8.1.3 in /Users/krrishts/.pyenv/versions/3.10.13/lib/python3.10/site-packages (from flask>=1.1.2->chemprop==1.5.2->synthemol) (8.1.8)\n",
      "Requirement already satisfied: Werkzeug>=3.1 in /Users/krrishts/.pyenv/versions/3.10.13/lib/python3.10/site-packages (from flask>=1.1.2->chemprop==1.5.2->synthemol) (3.1.3)\n",
      "Requirement already satisfied: itsdangerous>=2.2 in /Users/krrishts/.pyenv/versions/3.10.13/lib/python3.10/site-packages (from flask>=1.1.2->chemprop==1.5.2->synthemol) (2.2.0)\n",
      "Requirement already satisfied: py4j in /Users/krrishts/.pyenv/versions/3.10.13/lib/python3.10/site-packages (from hyperopt>=0.2.3->chemprop==1.5.2->synthemol) (0.10.9.9)\n",
      "Requirement already satisfied: six in /Users/krrishts/.pyenv/versions/3.10.13/lib/python3.10/site-packages (from hyperopt>=0.2.3->chemprop==1.5.2->synthemol) (1.17.0)\n",
      "Requirement already satisfied: future in /Users/krrishts/.pyenv/versions/3.10.13/lib/python3.10/site-packages (from hyperopt>=0.2.3->chemprop==1.5.2->synthemol) (1.0.0)\n",
      "Requirement already satisfied: cloudpickle in /Users/krrishts/.pyenv/versions/3.10.13/lib/python3.10/site-packages (from hyperopt>=0.2.3->chemprop==1.5.2->synthemol) (3.1.1)\n",
      "Requirement already satisfied: MarkupSafe>=2.0 in /Users/krrishts/.pyenv/versions/3.10.13/lib/python3.10/site-packages (from jinja2->torch->synthemol) (3.0.2)\n",
      "Requirement already satisfied: xarray in /Users/krrishts/.pyenv/versions/3.10.13/lib/python3.10/site-packages (from pandas-flavor>=0.2.0->chemprop==1.5.2->synthemol) (2024.7.0)\n",
      "Requirement already satisfied: sphinxcontrib-jsmath>=1.0.1 in /Users/krrishts/.pyenv/versions/3.10.13/lib/python3.10/site-packages (from sphinx>=3.1.2->chemprop==1.5.2->synthemol) (1.0.1)\n",
      "Requirement already satisfied: sphinxcontrib-devhelp>=1.0.6 in /Users/krrishts/.pyenv/versions/3.10.13/lib/python3.10/site-packages (from sphinx>=3.1.2->chemprop==1.5.2->synthemol) (2.0.0)\n",
      "Requirement already satisfied: Pygments>=2.17 in /Users/krrishts/.pyenv/versions/3.10.13/lib/python3.10/site-packages (from sphinx>=3.1.2->chemprop==1.5.2->synthemol) (2.19.1)\n",
      "Requirement already satisfied: snowballstemmer>=2.2 in /Users/krrishts/.pyenv/versions/3.10.13/lib/python3.10/site-packages (from sphinx>=3.1.2->chemprop==1.5.2->synthemol) (2.2.0)\n",
      "Requirement already satisfied: babel>=2.13 in /Users/krrishts/.pyenv/versions/3.10.13/lib/python3.10/site-packages (from sphinx>=3.1.2->chemprop==1.5.2->synthemol) (2.17.0)\n",
      "Requirement already satisfied: sphinxcontrib-qthelp>=1.0.6 in /Users/krrishts/.pyenv/versions/3.10.13/lib/python3.10/site-packages (from sphinx>=3.1.2->chemprop==1.5.2->synthemol) (2.0.0)\n",
      "Requirement already satisfied: imagesize>=1.3 in /Users/krrishts/.pyenv/versions/3.10.13/lib/python3.10/site-packages (from sphinx>=3.1.2->chemprop==1.5.2->synthemol) (1.4.1)\n",
      "Requirement already satisfied: sphinxcontrib-applehelp>=1.0.7 in /Users/krrishts/.pyenv/versions/3.10.13/lib/python3.10/site-packages (from sphinx>=3.1.2->chemprop==1.5.2->synthemol) (2.0.0)\n",
      "Requirement already satisfied: docutils<0.22,>=0.20 in /Users/krrishts/.pyenv/versions/3.10.13/lib/python3.10/site-packages (from sphinx>=3.1.2->chemprop==1.5.2->synthemol) (0.21.2)\n",
      "Requirement already satisfied: alabaster>=0.7.14 in /Users/krrishts/.pyenv/versions/3.10.13/lib/python3.10/site-packages (from sphinx>=3.1.2->chemprop==1.5.2->synthemol) (1.0.0)\n",
      "Requirement already satisfied: sphinxcontrib-htmlhelp>=2.0.6 in /Users/krrishts/.pyenv/versions/3.10.13/lib/python3.10/site-packages (from sphinx>=3.1.2->chemprop==1.5.2->synthemol) (2.1.0)\n",
      "Requirement already satisfied: tomli>=2 in /Users/krrishts/.pyenv/versions/3.10.13/lib/python3.10/site-packages (from sphinx>=3.1.2->chemprop==1.5.2->synthemol) (2.2.1)\n",
      "Requirement already satisfied: sphinxcontrib-serializinghtml>=1.1.9 in /Users/krrishts/.pyenv/versions/3.10.13/lib/python3.10/site-packages (from sphinx>=3.1.2->chemprop==1.5.2->synthemol) (2.0.0)\n",
      "Requirement already satisfied: requests>=2.30.0 in /Users/krrishts/.pyenv/versions/3.10.13/lib/python3.10/site-packages (from sphinx>=3.1.2->chemprop==1.5.2->synthemol) (2.32.3)\n",
      "Requirement already satisfied: protobuf>=3.20 in /Users/krrishts/.pyenv/versions/3.10.13/lib/python3.10/site-packages (from tensorboardX>=2.0->chemprop==1.5.2->synthemol) (5.29.3)\n",
      "Requirement already satisfied: mypy-extensions>=0.3.0 in /Users/krrishts/.pyenv/versions/3.10.13/lib/python3.10/site-packages (from typing-inspect>=0.7.1->typed-argument-parser>=1.8.0->synthemol) (1.0.0)\n",
      "Requirement already satisfied: mpmath<1.4,>=1.1.0 in /Users/krrishts/.pyenv/versions/3.10.13/lib/python3.10/site-packages (from sympy->torch->synthemol) (1.3.0)\n",
      "Requirement already satisfied: charset-normalizer<4,>=2 in /Users/krrishts/.pyenv/versions/3.10.13/lib/python3.10/site-packages (from requests>=2.30.0->sphinx>=3.1.2->chemprop==1.5.2->synthemol) (3.4.1)\n",
      "Requirement already satisfied: urllib3<3,>=1.21.1 in /Users/krrishts/.pyenv/versions/3.10.13/lib/python3.10/site-packages (from requests>=2.30.0->sphinx>=3.1.2->chemprop==1.5.2->synthemol) (2.3.0)\n",
      "Requirement already satisfied: certifi>=2017.4.17 in /Users/krrishts/.pyenv/versions/3.10.13/lib/python3.10/site-packages (from requests>=2.30.0->sphinx>=3.1.2->chemprop==1.5.2->synthemol) (2025.1.31)\n",
      "Requirement already satisfied: idna<4,>=2.5 in /Users/krrishts/.pyenv/versions/3.10.13/lib/python3.10/site-packages (from requests>=2.30.0->sphinx>=3.1.2->chemprop==1.5.2->synthemol) (3.10)\n",
      "Installing collected packages: synthemol\n",
      "\u001b[33m  DEPRECATION: synthemol is being installed using the legacy 'setup.py install' method, because it does not have a 'pyproject.toml' and the 'wheel' package is not installed. pip 23.1 will enforce this behaviour change. A possible replacement is to enable the '--use-pep517' option. Discussion can be found at https://github.com/pypa/pip/issues/8559\u001b[0m\u001b[33m\n",
      "\u001b[0m  Running setup.py install for synthemol ... \u001b[?25ldone\n",
      "\u001b[?25hSuccessfully installed synthemol-1.0.4\n",
      "\n",
      "\u001b[1m[\u001b[0m\u001b[34;49mnotice\u001b[0m\u001b[1;39;49m]\u001b[0m\u001b[39;49m A new release of pip is available: \u001b[0m\u001b[31;49m23.0.1\u001b[0m\u001b[39;49m -> \u001b[0m\u001b[32;49m25.0.1\u001b[0m\n",
      "\u001b[1m[\u001b[0m\u001b[34;49mnotice\u001b[0m\u001b[1;39;49m]\u001b[0m\u001b[39;49m To update, run: \u001b[0m\u001b[32;49mpip install --upgrade pip\u001b[0m\n",
      "Note: you may need to restart the kernel to use updated packages.\n"
     ]
    }
   ],
   "source": [
    "pip install synthemol"
   ]
  },
  {
   "cell_type": "code",
   "execution_count": 12,
   "metadata": {},
   "outputs": [
    {
     "name": "stdout",
     "output_type": "stream",
     "text": [
      "Requirement already satisfied: synthemol in /Users/krrishts/.pyenv/versions/3.10.13/lib/python3.10/site-packages (1.0.4)\n",
      "Requirement already satisfied: chemfunc in /Users/krrishts/.pyenv/versions/3.10.13/lib/python3.10/site-packages (from synthemol) (1.0.3)\n",
      "Requirement already satisfied: chemprop==1.5.2 in /Users/krrishts/.pyenv/versions/3.10.13/lib/python3.10/site-packages (from synthemol) (1.5.2)\n",
      "Requirement already satisfied: descriptastorus in /Users/krrishts/.pyenv/versions/3.10.13/lib/python3.10/site-packages (from synthemol) (2.6.0)\n",
      "Requirement already satisfied: matplotlib in /Users/krrishts/.pyenv/versions/3.10.13/lib/python3.10/site-packages (from synthemol) (3.7.1)\n",
      "Requirement already satisfied: numpy in /Users/krrishts/.pyenv/versions/3.10.13/lib/python3.10/site-packages (from synthemol) (1.24.3)\n",
      "Requirement already satisfied: pandas in /Users/krrishts/.pyenv/versions/3.10.13/lib/python3.10/site-packages (from synthemol) (2.0.1)\n",
      "Requirement already satisfied: torch in /Users/krrishts/.pyenv/versions/3.10.13/lib/python3.10/site-packages (from synthemol) (2.0.1)\n",
      "Requirement already satisfied: rdkit in /Users/krrishts/.pyenv/versions/3.10.13/lib/python3.10/site-packages (from synthemol) (2022.3.4)\n",
      "Requirement already satisfied: scikit-learn in /Users/krrishts/.pyenv/versions/3.10.13/lib/python3.10/site-packages (from synthemol) (1.2.2)\n",
      "Requirement already satisfied: scipy in /Users/krrishts/.pyenv/versions/3.10.13/lib/python3.10/site-packages (from synthemol) (1.10.1)\n",
      "Requirement already satisfied: tqdm in /Users/krrishts/.pyenv/versions/3.10.13/lib/python3.10/site-packages (from synthemol) (4.65.0)\n",
      "Requirement already satisfied: typed-argument-parser>=1.8.0 in /Users/krrishts/.pyenv/versions/3.10.13/lib/python3.10/site-packages (from synthemol) (1.8.0)\n",
      "Requirement already satisfied: flask>=1.1.2 in /Users/krrishts/.pyenv/versions/3.10.13/lib/python3.10/site-packages (from chemprop==1.5.2->synthemol) (3.1.0)\n",
      "Requirement already satisfied: hyperopt>=0.2.3 in /Users/krrishts/.pyenv/versions/3.10.13/lib/python3.10/site-packages (from chemprop==1.5.2->synthemol) (0.2.7)\n",
      "Requirement already satisfied: pandas-flavor>=0.2.0 in /Users/krrishts/.pyenv/versions/3.10.13/lib/python3.10/site-packages (from chemprop==1.5.2->synthemol) (0.6.0)\n",
      "Requirement already satisfied: sphinx>=3.1.2 in /Users/krrishts/.pyenv/versions/3.10.13/lib/python3.10/site-packages (from chemprop==1.5.2->synthemol) (8.1.3)\n",
      "Requirement already satisfied: tensorboardX>=2.0 in /Users/krrishts/.pyenv/versions/3.10.13/lib/python3.10/site-packages (from chemprop==1.5.2->synthemol) (2.6.2.2)\n",
      "Requirement already satisfied: pillow>=6.2.0 in /Users/krrishts/.pyenv/versions/3.10.13/lib/python3.10/site-packages (from matplotlib->synthemol) (11.1.0)\n",
      "Requirement already satisfied: cycler>=0.10 in /Users/krrishts/.pyenv/versions/3.10.13/lib/python3.10/site-packages (from matplotlib->synthemol) (0.12.1)\n",
      "Requirement already satisfied: python-dateutil>=2.7 in /Users/krrishts/.pyenv/versions/3.10.13/lib/python3.10/site-packages (from matplotlib->synthemol) (2.9.0.post0)\n",
      "Requirement already satisfied: contourpy>=1.0.1 in /Users/krrishts/.pyenv/versions/3.10.13/lib/python3.10/site-packages (from matplotlib->synthemol) (1.3.1)\n",
      "Requirement already satisfied: pyparsing>=2.3.1 in /Users/krrishts/.pyenv/versions/3.10.13/lib/python3.10/site-packages (from matplotlib->synthemol) (3.2.1)\n",
      "Requirement already satisfied: packaging>=20.0 in /Users/krrishts/.pyenv/versions/3.10.13/lib/python3.10/site-packages (from matplotlib->synthemol) (24.2)\n",
      "Requirement already satisfied: fonttools>=4.22.0 in /Users/krrishts/.pyenv/versions/3.10.13/lib/python3.10/site-packages (from matplotlib->synthemol) (4.56.0)\n",
      "Requirement already satisfied: kiwisolver>=1.0.1 in /Users/krrishts/.pyenv/versions/3.10.13/lib/python3.10/site-packages (from matplotlib->synthemol) (1.4.8)\n",
      "Requirement already satisfied: pytz>=2020.1 in /Users/krrishts/.pyenv/versions/3.10.13/lib/python3.10/site-packages (from pandas->synthemol) (2025.1)\n",
      "Requirement already satisfied: tzdata>=2022.1 in /Users/krrishts/.pyenv/versions/3.10.13/lib/python3.10/site-packages (from pandas->synthemol) (2025.1)\n",
      "Requirement already satisfied: threadpoolctl>=2.0.0 in /Users/krrishts/.pyenv/versions/3.10.13/lib/python3.10/site-packages (from scikit-learn->synthemol) (3.5.0)\n",
      "Requirement already satisfied: joblib>=1.1.1 in /Users/krrishts/.pyenv/versions/3.10.13/lib/python3.10/site-packages (from scikit-learn->synthemol) (1.4.2)\n",
      "Requirement already satisfied: networkx in /Users/krrishts/.pyenv/versions/3.10.13/lib/python3.10/site-packages (from torch->synthemol) (3.4.2)\n",
      "Requirement already satisfied: typing-extensions in /Users/krrishts/.pyenv/versions/3.10.13/lib/python3.10/site-packages (from torch->synthemol) (4.12.2)\n",
      "Requirement already satisfied: sympy in /Users/krrishts/.pyenv/versions/3.10.13/lib/python3.10/site-packages (from torch->synthemol) (1.13.3)\n",
      "Requirement already satisfied: filelock in /Users/krrishts/.pyenv/versions/3.10.13/lib/python3.10/site-packages (from torch->synthemol) (3.17.0)\n",
      "Requirement already satisfied: jinja2 in /Users/krrishts/.pyenv/versions/3.10.13/lib/python3.10/site-packages (from torch->synthemol) (3.1.5)\n",
      "Requirement already satisfied: typing-inspect>=0.7.1 in /Users/krrishts/.pyenv/versions/3.10.13/lib/python3.10/site-packages (from typed-argument-parser>=1.8.0->synthemol) (0.9.0)\n",
      "Requirement already satisfied: docstring-parser>=0.15 in /Users/krrishts/.pyenv/versions/3.10.13/lib/python3.10/site-packages (from typed-argument-parser>=1.8.0->synthemol) (0.16)\n",
      "Requirement already satisfied: itsdangerous>=2.2 in /Users/krrishts/.pyenv/versions/3.10.13/lib/python3.10/site-packages (from flask>=1.1.2->chemprop==1.5.2->synthemol) (2.2.0)\n",
      "Requirement already satisfied: click>=8.1.3 in /Users/krrishts/.pyenv/versions/3.10.13/lib/python3.10/site-packages (from flask>=1.1.2->chemprop==1.5.2->synthemol) (8.1.8)\n",
      "Requirement already satisfied: Werkzeug>=3.1 in /Users/krrishts/.pyenv/versions/3.10.13/lib/python3.10/site-packages (from flask>=1.1.2->chemprop==1.5.2->synthemol) (3.1.3)\n",
      "Requirement already satisfied: blinker>=1.9 in /Users/krrishts/.pyenv/versions/3.10.13/lib/python3.10/site-packages (from flask>=1.1.2->chemprop==1.5.2->synthemol) (1.9.0)\n",
      "Requirement already satisfied: six in /Users/krrishts/.pyenv/versions/3.10.13/lib/python3.10/site-packages (from hyperopt>=0.2.3->chemprop==1.5.2->synthemol) (1.17.0)\n",
      "Requirement already satisfied: cloudpickle in /Users/krrishts/.pyenv/versions/3.10.13/lib/python3.10/site-packages (from hyperopt>=0.2.3->chemprop==1.5.2->synthemol) (3.1.1)\n",
      "Requirement already satisfied: py4j in /Users/krrishts/.pyenv/versions/3.10.13/lib/python3.10/site-packages (from hyperopt>=0.2.3->chemprop==1.5.2->synthemol) (0.10.9.9)\n",
      "Requirement already satisfied: future in /Users/krrishts/.pyenv/versions/3.10.13/lib/python3.10/site-packages (from hyperopt>=0.2.3->chemprop==1.5.2->synthemol) (1.0.0)\n",
      "Requirement already satisfied: MarkupSafe>=2.0 in /Users/krrishts/.pyenv/versions/3.10.13/lib/python3.10/site-packages (from jinja2->torch->synthemol) (3.0.2)\n",
      "Requirement already satisfied: xarray in /Users/krrishts/.pyenv/versions/3.10.13/lib/python3.10/site-packages (from pandas-flavor>=0.2.0->chemprop==1.5.2->synthemol) (2024.7.0)\n",
      "Requirement already satisfied: sphinxcontrib-applehelp>=1.0.7 in /Users/krrishts/.pyenv/versions/3.10.13/lib/python3.10/site-packages (from sphinx>=3.1.2->chemprop==1.5.2->synthemol) (2.0.0)\n",
      "Requirement already satisfied: sphinxcontrib-devhelp>=1.0.6 in /Users/krrishts/.pyenv/versions/3.10.13/lib/python3.10/site-packages (from sphinx>=3.1.2->chemprop==1.5.2->synthemol) (2.0.0)\n",
      "Requirement already satisfied: sphinxcontrib-qthelp>=1.0.6 in /Users/krrishts/.pyenv/versions/3.10.13/lib/python3.10/site-packages (from sphinx>=3.1.2->chemprop==1.5.2->synthemol) (2.0.0)\n",
      "Requirement already satisfied: sphinxcontrib-jsmath>=1.0.1 in /Users/krrishts/.pyenv/versions/3.10.13/lib/python3.10/site-packages (from sphinx>=3.1.2->chemprop==1.5.2->synthemol) (1.0.1)\n",
      "Requirement already satisfied: requests>=2.30.0 in /Users/krrishts/.pyenv/versions/3.10.13/lib/python3.10/site-packages (from sphinx>=3.1.2->chemprop==1.5.2->synthemol) (2.32.3)\n",
      "Requirement already satisfied: tomli>=2 in /Users/krrishts/.pyenv/versions/3.10.13/lib/python3.10/site-packages (from sphinx>=3.1.2->chemprop==1.5.2->synthemol) (2.2.1)\n",
      "Requirement already satisfied: sphinxcontrib-htmlhelp>=2.0.6 in /Users/krrishts/.pyenv/versions/3.10.13/lib/python3.10/site-packages (from sphinx>=3.1.2->chemprop==1.5.2->synthemol) (2.1.0)\n",
      "Requirement already satisfied: docutils<0.22,>=0.20 in /Users/krrishts/.pyenv/versions/3.10.13/lib/python3.10/site-packages (from sphinx>=3.1.2->chemprop==1.5.2->synthemol) (0.21.2)\n",
      "Requirement already satisfied: alabaster>=0.7.14 in /Users/krrishts/.pyenv/versions/3.10.13/lib/python3.10/site-packages (from sphinx>=3.1.2->chemprop==1.5.2->synthemol) (1.0.0)\n",
      "Requirement already satisfied: imagesize>=1.3 in /Users/krrishts/.pyenv/versions/3.10.13/lib/python3.10/site-packages (from sphinx>=3.1.2->chemprop==1.5.2->synthemol) (1.4.1)\n",
      "Requirement already satisfied: sphinxcontrib-serializinghtml>=1.1.9 in /Users/krrishts/.pyenv/versions/3.10.13/lib/python3.10/site-packages (from sphinx>=3.1.2->chemprop==1.5.2->synthemol) (2.0.0)\n",
      "Requirement already satisfied: babel>=2.13 in /Users/krrishts/.pyenv/versions/3.10.13/lib/python3.10/site-packages (from sphinx>=3.1.2->chemprop==1.5.2->synthemol) (2.17.0)\n",
      "Requirement already satisfied: Pygments>=2.17 in /Users/krrishts/.pyenv/versions/3.10.13/lib/python3.10/site-packages (from sphinx>=3.1.2->chemprop==1.5.2->synthemol) (2.19.1)\n",
      "Requirement already satisfied: snowballstemmer>=2.2 in /Users/krrishts/.pyenv/versions/3.10.13/lib/python3.10/site-packages (from sphinx>=3.1.2->chemprop==1.5.2->synthemol) (2.2.0)\n",
      "Requirement already satisfied: protobuf>=3.20 in /Users/krrishts/.pyenv/versions/3.10.13/lib/python3.10/site-packages (from tensorboardX>=2.0->chemprop==1.5.2->synthemol) (5.29.3)\n",
      "Requirement already satisfied: mypy-extensions>=0.3.0 in /Users/krrishts/.pyenv/versions/3.10.13/lib/python3.10/site-packages (from typing-inspect>=0.7.1->typed-argument-parser>=1.8.0->synthemol) (1.0.0)\n",
      "Requirement already satisfied: mpmath<1.4,>=1.1.0 in /Users/krrishts/.pyenv/versions/3.10.13/lib/python3.10/site-packages (from sympy->torch->synthemol) (1.3.0)\n",
      "Requirement already satisfied: idna<4,>=2.5 in /Users/krrishts/.pyenv/versions/3.10.13/lib/python3.10/site-packages (from requests>=2.30.0->sphinx>=3.1.2->chemprop==1.5.2->synthemol) (3.10)\n",
      "Requirement already satisfied: charset-normalizer<4,>=2 in /Users/krrishts/.pyenv/versions/3.10.13/lib/python3.10/site-packages (from requests>=2.30.0->sphinx>=3.1.2->chemprop==1.5.2->synthemol) (3.4.1)\n",
      "Requirement already satisfied: certifi>=2017.4.17 in /Users/krrishts/.pyenv/versions/3.10.13/lib/python3.10/site-packages (from requests>=2.30.0->sphinx>=3.1.2->chemprop==1.5.2->synthemol) (2025.1.31)\n",
      "Requirement already satisfied: urllib3<3,>=1.21.1 in /Users/krrishts/.pyenv/versions/3.10.13/lib/python3.10/site-packages (from requests>=2.30.0->sphinx>=3.1.2->chemprop==1.5.2->synthemol) (2.3.0)\n",
      "\n",
      "\u001b[1m[\u001b[0m\u001b[34;49mnotice\u001b[0m\u001b[1;39;49m]\u001b[0m\u001b[39;49m A new release of pip is available: \u001b[0m\u001b[31;49m23.0.1\u001b[0m\u001b[39;49m -> \u001b[0m\u001b[32;49m25.0.1\u001b[0m\n",
      "\u001b[1m[\u001b[0m\u001b[34;49mnotice\u001b[0m\u001b[1;39;49m]\u001b[0m\u001b[39;49m To update, run: \u001b[0m\u001b[32;49mpip install --upgrade pip\u001b[0m\n",
      "Note: you may need to restart the kernel to use updated packages.\n"
     ]
    }
   ],
   "source": [
    "pip install --upgrade synthemol"
   ]
  },
  {
   "cell_type": "code",
   "execution_count": 13,
   "metadata": {},
   "outputs": [
    {
     "ename": "SyntaxError",
     "evalue": "invalid syntax (2282464729.py, line 1)",
     "output_type": "error",
     "traceback": [
      "\u001b[0;36m  Cell \u001b[0;32mIn[13], line 1\u001b[0;36m\u001b[0m\n\u001b[0;31m    python -c \"import synthemol; print(synthemol.__file__)\"\u001b[0m\n\u001b[0m              ^\u001b[0m\n\u001b[0;31mSyntaxError\u001b[0m\u001b[0;31m:\u001b[0m invalid syntax\n"
     ]
    }
   ],
   "source": [
    "python -c \"import synthemol; print(synthemol.__file__)\""
   ]
  },
  {
   "cell_type": "code",
   "execution_count": 11,
   "metadata": {},
   "outputs": [
    {
     "ename": "ImportError",
     "evalue": "cannot import name 'generate_molecules' from 'synthemol.generate' (/Users/krrishts/.pyenv/versions/3.10.13/lib/python3.10/site-packages/synthemol/generate/__init__.py)",
     "output_type": "error",
     "traceback": [
      "\u001b[0;31m---------------------------------------------------------------------------\u001b[0m",
      "\u001b[0;31mImportError\u001b[0m                               Traceback (most recent call last)",
      "Cell \u001b[0;32mIn[11], line 3\u001b[0m\n\u001b[1;32m      1\u001b[0m \u001b[38;5;28;01mimport\u001b[39;00m\u001b[38;5;250m \u001b[39m\u001b[38;5;21;01mos\u001b[39;00m\n\u001b[1;32m      2\u001b[0m \u001b[38;5;28;01mimport\u001b[39;00m\u001b[38;5;250m \u001b[39m\u001b[38;5;21;01msynthemol\u001b[39;00m\n\u001b[0;32m----> 3\u001b[0m \u001b[38;5;28;01mfrom\u001b[39;00m\u001b[38;5;250m \u001b[39m\u001b[38;5;21;01msynthemol\u001b[39;00m\u001b[38;5;21;01m.\u001b[39;00m\u001b[38;5;21;01mgenerate\u001b[39;00m\u001b[38;5;250m \u001b[39m\u001b[38;5;28;01mimport\u001b[39;00m generate_molecules\n\u001b[1;32m      4\u001b[0m \u001b[38;5;28;01mfrom\u001b[39;00m\u001b[38;5;250m \u001b[39m\u001b[38;5;21;01msynthemol\u001b[39;00m\u001b[38;5;21;01m.\u001b[39;00m\u001b[38;5;21;01mreactions\u001b[39;00m\u001b[38;5;21;01m.\u001b[39;00m\u001b[38;5;21;01mreal\u001b[39;00m\u001b[38;5;250m \u001b[39m\u001b[38;5;28;01mimport\u001b[39;00m REAL_REACTIONS\n\u001b[1;32m      5\u001b[0m \u001b[38;5;28;01mfrom\u001b[39;00m\u001b[38;5;250m \u001b[39m\u001b[38;5;21;01mchemprop\u001b[39;00m\u001b[38;5;21;01m.\u001b[39;00m\u001b[38;5;21;01mdata\u001b[39;00m\u001b[38;5;250m \u001b[39m\u001b[38;5;28;01mimport\u001b[39;00m MoleculeDataset\n",
      "\u001b[0;31mImportError\u001b[0m: cannot import name 'generate_molecules' from 'synthemol.generate' (/Users/krrishts/.pyenv/versions/3.10.13/lib/python3.10/site-packages/synthemol/generate/__init__.py)"
     ]
    }
   ],
   "source": [
    "import os\n",
    "import synthemol\n",
    "from synthemol.generate import generate_molecules\n",
    "from synthemol.reactions.real import REAL_REACTIONS\n",
    "from chemprop.data import MoleculeDataset\n",
    "from chemprop.utils import load_checkpoint\n",
    "from chemprop.train import predict\n",
    "from chemfunc import nearest_neighbor, filter_molecules, cluster_molecules, select_from_clusters"
   ]
  },
  {
   "cell_type": "code",
   "execution_count": null,
   "metadata": {},
   "outputs": [],
   "source": []
  },
  {
   "cell_type": "code",
   "execution_count": null,
   "metadata": {},
   "outputs": [],
   "source": []
  },
  {
   "cell_type": "code",
   "execution_count": null,
   "metadata": {},
   "outputs": [],
   "source": [
    "# Define paths\n",
    "MODEL_PATH = \"models/chemprop/fold_0/model.pt\"  # Path to trained Chemprop model\n",
    "BUILDING_BLOCKS_PATH = \"models/chemprop/building_blocks.csv\"  # Path to precomputed building block scores\n",
    "HITS_PATH = \"data/hits.csv\"  # Path to known active molecules (for novelty filtering)\n",
    "SAVE_DIR = \"generations/chemprop\"  # Directory to save generated molecules\n",
    "\n",
    "# Ensure save directory exists\n",
    "os.makedirs(SAVE_DIR, exist_ok=True)"
   ]
  },
  {
   "cell_type": "code",
   "execution_count": 6,
   "metadata": {},
   "outputs": [
    {
     "ename": "FileNotFoundError",
     "evalue": "[Errno 2] No such file or directory: 'synthemol_model.pth'",
     "output_type": "error",
     "traceback": [
      "\u001b[0;31m---------------------------------------------------------------------------\u001b[0m",
      "\u001b[0;31mFileNotFoundError\u001b[0m                         Traceback (most recent call last)",
      "Cell \u001b[0;32mIn[6], line 22\u001b[0m\n\u001b[1;32m     20\u001b[0m \u001b[38;5;66;03m# Load the model (adjust the path to your model file)\u001b[39;00m\n\u001b[1;32m     21\u001b[0m model \u001b[38;5;241m=\u001b[39m SynthemolModel(input_dim\u001b[38;5;241m=\u001b[39m\u001b[38;5;241m128\u001b[39m, hidden_dim\u001b[38;5;241m=\u001b[39m\u001b[38;5;241m256\u001b[39m, output_dim\u001b[38;5;241m=\u001b[39m\u001b[38;5;241m128\u001b[39m)\n\u001b[0;32m---> 22\u001b[0m model\u001b[38;5;241m.\u001b[39mload_state_dict(\u001b[43mtorch\u001b[49m\u001b[38;5;241;43m.\u001b[39;49m\u001b[43mload\u001b[49m\u001b[43m(\u001b[49m\u001b[38;5;124;43m'\u001b[39;49m\u001b[38;5;124;43msynthemol_model.pth\u001b[39;49m\u001b[38;5;124;43m'\u001b[39;49m\u001b[43m)\u001b[49m)\n\u001b[1;32m     23\u001b[0m model\u001b[38;5;241m.\u001b[39meval()\n\u001b[1;32m     25\u001b[0m \u001b[38;5;66;03m# Function to generate a molecule from a latent vector\u001b[39;00m\n",
      "File \u001b[0;32m~/.pyenv/versions/3.10.13/lib/python3.10/site-packages/torch/serialization.py:791\u001b[0m, in \u001b[0;36mload\u001b[0;34m(f, map_location, pickle_module, weights_only, **pickle_load_args)\u001b[0m\n\u001b[1;32m    788\u001b[0m \u001b[38;5;28;01mif\u001b[39;00m \u001b[38;5;124m'\u001b[39m\u001b[38;5;124mencoding\u001b[39m\u001b[38;5;124m'\u001b[39m \u001b[38;5;129;01mnot\u001b[39;00m \u001b[38;5;129;01min\u001b[39;00m pickle_load_args\u001b[38;5;241m.\u001b[39mkeys():\n\u001b[1;32m    789\u001b[0m     pickle_load_args[\u001b[38;5;124m'\u001b[39m\u001b[38;5;124mencoding\u001b[39m\u001b[38;5;124m'\u001b[39m] \u001b[38;5;241m=\u001b[39m \u001b[38;5;124m'\u001b[39m\u001b[38;5;124mutf-8\u001b[39m\u001b[38;5;124m'\u001b[39m\n\u001b[0;32m--> 791\u001b[0m \u001b[38;5;28;01mwith\u001b[39;00m \u001b[43m_open_file_like\u001b[49m\u001b[43m(\u001b[49m\u001b[43mf\u001b[49m\u001b[43m,\u001b[49m\u001b[43m \u001b[49m\u001b[38;5;124;43m'\u001b[39;49m\u001b[38;5;124;43mrb\u001b[39;49m\u001b[38;5;124;43m'\u001b[39;49m\u001b[43m)\u001b[49m \u001b[38;5;28;01mas\u001b[39;00m opened_file:\n\u001b[1;32m    792\u001b[0m     \u001b[38;5;28;01mif\u001b[39;00m _is_zipfile(opened_file):\n\u001b[1;32m    793\u001b[0m         \u001b[38;5;66;03m# The zipfile reader is going to advance the current file position.\u001b[39;00m\n\u001b[1;32m    794\u001b[0m         \u001b[38;5;66;03m# If we want to actually tail call to torch.jit.load, we need to\u001b[39;00m\n\u001b[1;32m    795\u001b[0m         \u001b[38;5;66;03m# reset back to the original position.\u001b[39;00m\n\u001b[1;32m    796\u001b[0m         orig_position \u001b[38;5;241m=\u001b[39m opened_file\u001b[38;5;241m.\u001b[39mtell()\n",
      "File \u001b[0;32m~/.pyenv/versions/3.10.13/lib/python3.10/site-packages/torch/serialization.py:271\u001b[0m, in \u001b[0;36m_open_file_like\u001b[0;34m(name_or_buffer, mode)\u001b[0m\n\u001b[1;32m    269\u001b[0m \u001b[38;5;28;01mdef\u001b[39;00m\u001b[38;5;250m \u001b[39m\u001b[38;5;21m_open_file_like\u001b[39m(name_or_buffer, mode):\n\u001b[1;32m    270\u001b[0m     \u001b[38;5;28;01mif\u001b[39;00m _is_path(name_or_buffer):\n\u001b[0;32m--> 271\u001b[0m         \u001b[38;5;28;01mreturn\u001b[39;00m \u001b[43m_open_file\u001b[49m\u001b[43m(\u001b[49m\u001b[43mname_or_buffer\u001b[49m\u001b[43m,\u001b[49m\u001b[43m \u001b[49m\u001b[43mmode\u001b[49m\u001b[43m)\u001b[49m\n\u001b[1;32m    272\u001b[0m     \u001b[38;5;28;01melse\u001b[39;00m:\n\u001b[1;32m    273\u001b[0m         \u001b[38;5;28;01mif\u001b[39;00m \u001b[38;5;124m'\u001b[39m\u001b[38;5;124mw\u001b[39m\u001b[38;5;124m'\u001b[39m \u001b[38;5;129;01min\u001b[39;00m mode:\n",
      "File \u001b[0;32m~/.pyenv/versions/3.10.13/lib/python3.10/site-packages/torch/serialization.py:252\u001b[0m, in \u001b[0;36m_open_file.__init__\u001b[0;34m(self, name, mode)\u001b[0m\n\u001b[1;32m    251\u001b[0m \u001b[38;5;28;01mdef\u001b[39;00m\u001b[38;5;250m \u001b[39m\u001b[38;5;21m__init__\u001b[39m(\u001b[38;5;28mself\u001b[39m, name, mode):\n\u001b[0;32m--> 252\u001b[0m     \u001b[38;5;28msuper\u001b[39m()\u001b[38;5;241m.\u001b[39m\u001b[38;5;21m__init__\u001b[39m(\u001b[38;5;28;43mopen\u001b[39;49m\u001b[43m(\u001b[49m\u001b[43mname\u001b[49m\u001b[43m,\u001b[49m\u001b[43m \u001b[49m\u001b[43mmode\u001b[49m\u001b[43m)\u001b[49m)\n",
      "\u001b[0;31mFileNotFoundError\u001b[0m: [Errno 2] No such file or directory: 'synthemol_model.pth'"
     ]
    }
   ],
   "source": [
    "import torch\n",
    "import numpy as np\n",
    "from rdkit import Chem\n",
    "from rdkit.Chem import Draw, Descriptors\n",
    "\n",
    "# Load the pre-trained Synthemol model\n",
    "class SynthemolModel(torch.nn.Module):\n",
    "    def __init__(self, input_dim, hidden_dim, output_dim):\n",
    "        super(SynthemolModel, self).__init__()\n",
    "        self.fc1 = torch.nn.Linear(input_dim, hidden_dim)\n",
    "        self.fc2 = torch.nn.Linear(hidden_dim, hidden_dim)\n",
    "        self.fc3 = torch.nn.Linear(hidden_dim, output_dim)\n",
    "    \n",
    "    def forward(self, x):\n",
    "        x = torch.relu(self.fc1(x))\n",
    "        x = torch.relu(self.fc2(x))\n",
    "        x = self.fc3(x)\n",
    "        return x\n",
    "\n",
    "# Load the model (adjust the path to your model file)\n",
    "model = SynthemolModel(input_dim=128, hidden_dim=256, output_dim=128)\n",
    "model.load_state_dict(torch.load('synthemol_model.pth'))\n",
    "model.eval()\n",
    "\n",
    "# Function to generate a molecule from a latent vector\n",
    "def generate_molecule(latent_vector):\n",
    "    with torch.no_grad():\n",
    "        output = model(latent_vector)\n",
    "        # Convert output to a molecular structure (this is a placeholder)\n",
    "        # In a real scenario, you would decode the output to a SMILES string or molecular graph\n",
    "        smiles = \"CCO\"  # Placeholder for generated SMILES\n",
    "        return smiles\n",
    "\n",
    "# Function to evaluate molecule properties\n",
    "def evaluate_molecule(smiles):\n",
    "    mol = Chem.MolFromSmiles(smiles)\n",
    "    if mol:\n",
    "        logp = Descriptors.MolLogP(mol)\n",
    "        mw = Descriptors.MolWt(mol)\n",
    "        return logp, mw\n",
    "    else:\n",
    "        return None, None\n",
    "\n",
    "# Generate a random latent vector (input to the model)\n",
    "latent"
   ]
  },
  {
   "cell_type": "code",
   "execution_count": null,
   "metadata": {},
   "outputs": [],
   "source": []
  },
  {
   "cell_type": "code",
   "execution_count": null,
   "metadata": {},
   "outputs": [],
   "source": []
  }
 ],
 "metadata": {
  "kernelspec": {
   "display_name": "3.10.13",
   "language": "python",
   "name": "python3"
  },
  "language_info": {
   "codemirror_mode": {
    "name": "ipython",
    "version": 3
   },
   "file_extension": ".py",
   "mimetype": "text/x-python",
   "name": "python",
   "nbconvert_exporter": "python",
   "pygments_lexer": "ipython3",
   "version": "3.10.13"
  }
 },
 "nbformat": 4,
 "nbformat_minor": 2
}
