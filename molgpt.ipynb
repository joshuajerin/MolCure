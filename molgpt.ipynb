{
 "cells": [
  {
   "cell_type": "code",
   "execution_count": 16,
   "metadata": {},
   "outputs": [
    {
     "name": "stderr",
     "output_type": "stream",
     "text": [
      "huggingface/tokenizers: The current process just got forked, after parallelism has already been used. Disabling parallelism to avoid deadlocks...\n",
      "To disable this warning, you can either:\n",
      "\t- Avoid using `tokenizers` before the fork if possible\n",
      "\t- Explicitly set the environment variable TOKENIZERS_PARALLELISM=(true | false)\n"
     ]
    },
    {
     "name": "stdout",
     "output_type": "stream",
     "text": [
      "Requirement already satisfied: transformers in /Users/krrishts/.pyenv/versions/3.10.13/lib/python3.10/site-packages (4.49.0)\n",
      "Requirement already satisfied: huggingface-hub<1.0,>=0.26.0 in /Users/krrishts/.pyenv/versions/3.10.13/lib/python3.10/site-packages (from transformers) (0.29.1)\n",
      "Requirement already satisfied: regex!=2019.12.17 in /Users/krrishts/.pyenv/versions/3.10.13/lib/python3.10/site-packages (from transformers) (2024.11.6)\n",
      "Requirement already satisfied: numpy>=1.17 in /Users/krrishts/.pyenv/versions/3.10.13/lib/python3.10/site-packages (from transformers) (1.24.3)\n",
      "Requirement already satisfied: safetensors>=0.4.1 in /Users/krrishts/.pyenv/versions/3.10.13/lib/python3.10/site-packages (from transformers) (0.5.3)\n",
      "Requirement already satisfied: filelock in /Users/krrishts/.pyenv/versions/3.10.13/lib/python3.10/site-packages (from transformers) (3.17.0)\n",
      "Requirement already satisfied: tokenizers<0.22,>=0.21 in /Users/krrishts/.pyenv/versions/3.10.13/lib/python3.10/site-packages (from transformers) (0.21.0)\n",
      "Requirement already satisfied: packaging>=20.0 in /Users/krrishts/.pyenv/versions/3.10.13/lib/python3.10/site-packages (from transformers) (24.2)\n",
      "Requirement already satisfied: tqdm>=4.27 in /Users/krrishts/.pyenv/versions/3.10.13/lib/python3.10/site-packages (from transformers) (4.67.1)\n",
      "Requirement already satisfied: requests in /Users/krrishts/.pyenv/versions/3.10.13/lib/python3.10/site-packages (from transformers) (2.32.3)\n",
      "Requirement already satisfied: pyyaml>=5.1 in /Users/krrishts/.pyenv/versions/3.10.13/lib/python3.10/site-packages (from transformers) (6.0.2)\n",
      "Requirement already satisfied: fsspec>=2023.5.0 in /Users/krrishts/.pyenv/versions/3.10.13/lib/python3.10/site-packages (from huggingface-hub<1.0,>=0.26.0->transformers) (2024.12.0)\n",
      "Requirement already satisfied: typing-extensions>=3.7.4.3 in /Users/krrishts/.pyenv/versions/3.10.13/lib/python3.10/site-packages (from huggingface-hub<1.0,>=0.26.0->transformers) (4.12.2)\n",
      "Requirement already satisfied: idna<4,>=2.5 in /Users/krrishts/.pyenv/versions/3.10.13/lib/python3.10/site-packages (from requests->transformers) (3.10)\n",
      "Requirement already satisfied: certifi>=2017.4.17 in /Users/krrishts/.pyenv/versions/3.10.13/lib/python3.10/site-packages (from requests->transformers) (2025.1.31)\n",
      "Requirement already satisfied: urllib3<3,>=1.21.1 in /Users/krrishts/.pyenv/versions/3.10.13/lib/python3.10/site-packages (from requests->transformers) (2.3.0)\n",
      "Requirement already satisfied: charset-normalizer<4,>=2 in /Users/krrishts/.pyenv/versions/3.10.13/lib/python3.10/site-packages (from requests->transformers) (3.4.1)\n",
      "\n",
      "\u001b[1m[\u001b[0m\u001b[34;49mnotice\u001b[0m\u001b[1;39;49m]\u001b[0m\u001b[39;49m A new release of pip is available: \u001b[0m\u001b[31;49m23.0.1\u001b[0m\u001b[39;49m -> \u001b[0m\u001b[32;49m25.0.1\u001b[0m\n",
      "\u001b[1m[\u001b[0m\u001b[34;49mnotice\u001b[0m\u001b[1;39;49m]\u001b[0m\u001b[39;49m To update, run: \u001b[0m\u001b[32;49mpip install --upgrade pip\u001b[0m\n"
     ]
    },
    {
     "name": "stderr",
     "output_type": "stream",
     "text": [
      "huggingface/tokenizers: The current process just got forked, after parallelism has already been used. Disabling parallelism to avoid deadlocks...\n",
      "To disable this warning, you can either:\n",
      "\t- Avoid using `tokenizers` before the fork if possible\n",
      "\t- Explicitly set the environment variable TOKENIZERS_PARALLELISM=(true | false)\n"
     ]
    },
    {
     "name": "stdout",
     "output_type": "stream",
     "text": [
      "Requirement already satisfied: tokenizers in /Users/krrishts/.pyenv/versions/3.10.13/lib/python3.10/site-packages (0.21.0)\n",
      "Requirement already satisfied: huggingface-hub<1.0,>=0.16.4 in /Users/krrishts/.pyenv/versions/3.10.13/lib/python3.10/site-packages (from tokenizers) (0.29.1)\n",
      "Requirement already satisfied: fsspec>=2023.5.0 in /Users/krrishts/.pyenv/versions/3.10.13/lib/python3.10/site-packages (from huggingface-hub<1.0,>=0.16.4->tokenizers) (2024.12.0)\n",
      "Requirement already satisfied: filelock in /Users/krrishts/.pyenv/versions/3.10.13/lib/python3.10/site-packages (from huggingface-hub<1.0,>=0.16.4->tokenizers) (3.17.0)\n",
      "Requirement already satisfied: typing-extensions>=3.7.4.3 in /Users/krrishts/.pyenv/versions/3.10.13/lib/python3.10/site-packages (from huggingface-hub<1.0,>=0.16.4->tokenizers) (4.12.2)\n",
      "Requirement already satisfied: packaging>=20.9 in /Users/krrishts/.pyenv/versions/3.10.13/lib/python3.10/site-packages (from huggingface-hub<1.0,>=0.16.4->tokenizers) (24.2)\n",
      "Requirement already satisfied: requests in /Users/krrishts/.pyenv/versions/3.10.13/lib/python3.10/site-packages (from huggingface-hub<1.0,>=0.16.4->tokenizers) (2.32.3)\n",
      "Requirement already satisfied: pyyaml>=5.1 in /Users/krrishts/.pyenv/versions/3.10.13/lib/python3.10/site-packages (from huggingface-hub<1.0,>=0.16.4->tokenizers) (6.0.2)\n",
      "Requirement already satisfied: tqdm>=4.42.1 in /Users/krrishts/.pyenv/versions/3.10.13/lib/python3.10/site-packages (from huggingface-hub<1.0,>=0.16.4->tokenizers) (4.67.1)\n",
      "Requirement already satisfied: idna<4,>=2.5 in /Users/krrishts/.pyenv/versions/3.10.13/lib/python3.10/site-packages (from requests->huggingface-hub<1.0,>=0.16.4->tokenizers) (3.10)\n",
      "Requirement already satisfied: charset-normalizer<4,>=2 in /Users/krrishts/.pyenv/versions/3.10.13/lib/python3.10/site-packages (from requests->huggingface-hub<1.0,>=0.16.4->tokenizers) (3.4.1)\n",
      "Requirement already satisfied: certifi>=2017.4.17 in /Users/krrishts/.pyenv/versions/3.10.13/lib/python3.10/site-packages (from requests->huggingface-hub<1.0,>=0.16.4->tokenizers) (2025.1.31)\n",
      "Requirement already satisfied: urllib3<3,>=1.21.1 in /Users/krrishts/.pyenv/versions/3.10.13/lib/python3.10/site-packages (from requests->huggingface-hub<1.0,>=0.16.4->tokenizers) (2.3.0)\n",
      "\n",
      "\u001b[1m[\u001b[0m\u001b[34;49mnotice\u001b[0m\u001b[1;39;49m]\u001b[0m\u001b[39;49m A new release of pip is available: \u001b[0m\u001b[31;49m23.0.1\u001b[0m\u001b[39;49m -> \u001b[0m\u001b[32;49m25.0.1\u001b[0m\n",
      "\u001b[1m[\u001b[0m\u001b[34;49mnotice\u001b[0m\u001b[1;39;49m]\u001b[0m\u001b[39;49m To update, run: \u001b[0m\u001b[32;49mpip install --upgrade pip\u001b[0m\n"
     ]
    },
    {
     "name": "stderr",
     "output_type": "stream",
     "text": [
      "huggingface/tokenizers: The current process just got forked, after parallelism has already been used. Disabling parallelism to avoid deadlocks...\n",
      "To disable this warning, you can either:\n",
      "\t- Avoid using `tokenizers` before the fork if possible\n",
      "\t- Explicitly set the environment variable TOKENIZERS_PARALLELISM=(true | false)\n"
     ]
    },
    {
     "name": "stdout",
     "output_type": "stream",
     "text": [
      "Requirement already satisfied: rdkit in /Users/krrishts/.pyenv/versions/3.10.13/lib/python3.10/site-packages (2022.3.4)\n",
      "Requirement already satisfied: Pillow in /Users/krrishts/.pyenv/versions/3.10.13/lib/python3.10/site-packages (from rdkit) (11.1.0)\n",
      "Requirement already satisfied: numpy in /Users/krrishts/.pyenv/versions/3.10.13/lib/python3.10/site-packages (from rdkit) (1.24.3)\n",
      "\n",
      "\u001b[1m[\u001b[0m\u001b[34;49mnotice\u001b[0m\u001b[1;39;49m]\u001b[0m\u001b[39;49m A new release of pip is available: \u001b[0m\u001b[31;49m23.0.1\u001b[0m\u001b[39;49m -> \u001b[0m\u001b[32;49m25.0.1\u001b[0m\n",
      "\u001b[1m[\u001b[0m\u001b[34;49mnotice\u001b[0m\u001b[1;39;49m]\u001b[0m\u001b[39;49m To update, run: \u001b[0m\u001b[32;49mpip install --upgrade pip\u001b[0m\n"
     ]
    }
   ],
   "source": [
    "# Install necessary libraries\n",
    "!pip install transformers\n",
    "!pip install tokenizers\n",
    "!pip install rdkit"
   ]
  },
  {
   "cell_type": "code",
   "execution_count": 17,
   "metadata": {},
   "outputs": [],
   "source": [
    "import pandas as pd\n",
    "from transformers import GPT2LMHeadModel, PreTrainedTokenizerFast\n",
    "from rdkit import Chem"
   ]
  },
  {
   "cell_type": "code",
   "execution_count": 18,
   "metadata": {},
   "outputs": [],
   "source": [
    "# Step 1: Load tokenizer and model directly from Hugging Face\n",
    "tokenizer = PreTrainedTokenizerFast.from_pretrained(\"jonghyunlee/MolGPT_pretrained-by-ZINC15\")\n",
    "tokenizer.pad_token = \"<pad>\"\n",
    "tokenizer.bos_token = \"<bos>\"\n",
    "tokenizer.eos_token = \"<eos>\""
   ]
  },
  {
   "cell_type": "code",
   "execution_count": 19,
   "metadata": {},
   "outputs": [],
   "source": [
    "model = GPT2LMHeadModel.from_pretrained(\"jonghyunlee/MolGPT_pretrained-by-ZINC15\")\n"
   ]
  },
  {
   "cell_type": "code",
   "execution_count": 20,
   "metadata": {},
   "outputs": [],
   "source": [
    "def preprocess_data(file_path):\n",
    "    df = pd.read_csv(file_path)\n",
    "    \n",
    "    # Remove the first row and use only the first column (SMILES)\n",
    "    df = df.iloc[1:, 0]  # Skip the first row and select the first column\n",
    "    \n",
    "    return df"
   ]
  },
  {
   "cell_type": "code",
   "execution_count": 21,
   "metadata": {},
   "outputs": [],
   "source": [
    "df = preprocess_data('inhibition_data.csv')\n"
   ]
  },
  {
   "cell_type": "code",
   "execution_count": 22,
   "metadata": {},
   "outputs": [],
   "source": [
    "def tokenize_smiles(smiles_list):\n",
    "    return tokenizer(smiles_list, padding=True, truncation=True, max_length=128, return_tensors=\"pt\")"
   ]
  },
  {
   "cell_type": "code",
   "execution_count": 23,
   "metadata": {},
   "outputs": [],
   "source": [
    "smiles_data = df.tolist()  # Convert the SMILES column to a list\n",
    "tokenized_data = tokenize_smiles(smiles_data)"
   ]
  },
  {
   "cell_type": "code",
   "execution_count": 24,
   "metadata": {},
   "outputs": [],
   "source": [
    "def generate_smiles(model, tokenizer, num_sequences=10, temperature=1.0):\n",
    "    outputs = model.generate(\n",
    "        max_length=128,\n",
    "        num_return_sequences=num_sequences,\n",
    "        pad_token_id=tokenizer.pad_token_id,\n",
    "        bos_token_id=tokenizer.bos_token_id,\n",
    "        eos_token_id=tokenizer.eos_token_id,\n",
    "        do_sample=True,\n",
    "        temperature=temperature,\n",
    "        return_dict_in_generate=True,\n",
    "    )\n",
    "    \n",
    "    generated_smiles = [tokenizer.decode(output, skip_special_tokens=True) for output in outputs.sequences]\n",
    "    return generated_smiles"
   ]
  },
  {
   "cell_type": "code",
   "execution_count": 25,
   "metadata": {},
   "outputs": [],
   "source": [
    "generated_smiles = generate_smiles(model, tokenizer, num_sequences=10, temperature=1.0)\n"
   ]
  },
  {
   "cell_type": "code",
   "execution_count": 26,
   "metadata": {},
   "outputs": [],
   "source": [
    "def validate_smiles(smiles):\n",
    "    molecule = Chem.MolFromSmiles(smiles)\n",
    "    if molecule:\n",
    "        return True  # Valid SMILES\n",
    "    else:\n",
    "        return False  # Invalid SMILES"
   ]
  },
  {
   "cell_type": "code",
   "execution_count": 27,
   "metadata": {},
   "outputs": [
    {
     "name": "stdout",
     "output_type": "stream",
     "text": [
      "Generated SMILES 1:  O=C1OC[C@@H]2CN(C(=O)NCCc3cnccn3)CCN12\n",
      "Valid: True\n",
      "\n",
      "Generated SMILES 2:  CC(C)c1nnnn1CC(=O)N1CC[C@@H](NC(=O)c2cnns2)C1\n",
      "Valid: True\n",
      "\n",
      "Generated SMILES 3:  NC(=O)NC(=O)CCNC(=O)c1cc2ccncc2[nH]1\n",
      "Valid: True\n",
      "\n",
      "Generated SMILES 4:  CC(C)(C)OC(=O)c1cccc(NC(=O)C(=O)NC(CO)CO)c1\n",
      "Valid: True\n",
      "\n",
      "Generated SMILES 5:  C[C@H](NC(=O)Cn1cnc(-c2nn[nH]n2)n1)c1ccc2c(c1)OCCO2\n",
      "Valid: True\n",
      "\n",
      "Generated SMILES 6:  CCn1nnnc1N1CCN(Cc2nc(COC)n[nH]2)CC1\n",
      "Valid: True\n",
      "\n",
      "Generated SMILES 7:  O=C(C[C@@H]1NC(=O)NC1=O)NC1CN(C(=O)[C@@H]2[C@H]3CCC[C@H]32)C1\n",
      "Valid: True\n",
      "\n",
      "Generated SMILES 8:  CC[C@H](F)C(=O)NC[C@@H](O)CNC(=O)c1nccnc1N\n",
      "Valid: True\n",
      "\n",
      "Generated SMILES 9:  CC(=O)N1CCC[C@@H]1C(=O)N[C@H]1CCN([C@@H](C)C(=O)NC2CC2)C1\n",
      "Valid: True\n",
      "\n",
      "Generated SMILES 10:  COCC(=O)NCCC(=O)N(C)CCNC(=O)c1cnc(C)nc1C\n",
      "Valid: True\n",
      "\n"
     ]
    }
   ],
   "source": [
    "\n",
    "# Step 6: Print generated SMILES and validation result\n",
    "for idx, smiles in enumerate(generated_smiles):\n",
    "    is_valid = validate_smiles(smiles)\n",
    "    print(f\"Generated SMILES {idx + 1}: {smiles}\")\n",
    "    print(f\"Valid: {is_valid}\\n\")"
   ]
  },
  {
   "cell_type": "code",
   "execution_count": null,
   "metadata": {},
   "outputs": [],
   "source": []
  }
 ],
 "metadata": {
  "kernelspec": {
   "display_name": "3.10.13",
   "language": "python",
   "name": "python3"
  },
  "language_info": {
   "codemirror_mode": {
    "name": "ipython",
    "version": 3
   },
   "file_extension": ".py",
   "mimetype": "text/x-python",
   "name": "python",
   "nbconvert_exporter": "python",
   "pygments_lexer": "ipython3",
   "version": "3.10.13"
  }
 },
 "nbformat": 4,
 "nbformat_minor": 2
}
